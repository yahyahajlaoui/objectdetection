{
 "cells": [
  {
   "cell_type": "markdown",
   "metadata": {},
   "source": [
    "#  Import Dependencies"
   ]
  },
  {
   "cell_type": "code",
   "execution_count": 1,
   "metadata": {},
   "outputs": [
    {
     "name": "stdout",
     "output_type": "stream",
     "text": [
      "Collecting opencv-python\n",
      "  Using cached opencv_python-4.5.3.56-cp38-cp38-win_amd64.whl (34.9 MB)\n",
      "Collecting numpy>=1.17.3\n",
      "  Using cached numpy-1.21.1-cp38-cp38-win_amd64.whl (14.0 MB)\n",
      "Installing collected packages: numpy, opencv-python\n",
      "Successfully installed numpy-1.21.1 opencv-python-4.5.3.56\n"
     ]
    }
   ],
   "source": [
    "!pip install opencv-python"
   ]
  },
  {
   "cell_type": "code",
   "execution_count": 2,
   "metadata": {},
   "outputs": [],
   "source": [
    "# Import opencv\n",
    "import cv2 \n",
    "\n",
    "# Import uuid\n",
    "import uuid\n",
    "\n",
    "# Import Operating System\n",
    "import os\n",
    "\n",
    "# Import time\n",
    "import time"
   ]
  },
  {
   "cell_type": "markdown",
   "metadata": {},
   "source": [
    "#  Define Images to Collect"
   ]
  },
  {
   "cell_type": "code",
   "execution_count": 3,
   "metadata": {},
   "outputs": [],
   "source": [
    "labels = ['usb', 'phone' , 'pen' , 'peace']\n",
    "number_imgs = 15"
   ]
  },
  {
   "cell_type": "markdown",
   "metadata": {},
   "source": [
    "# Setup Folders "
   ]
  },
  {
   "cell_type": "code",
   "execution_count": 4,
   "metadata": {},
   "outputs": [],
   "source": [
    "IMAGES_PATH = os.path.join('Tensorflow', 'workspace', 'images', 'collectedimages')"
   ]
  },
  {
   "cell_type": "code",
   "execution_count": 5,
   "metadata": {},
   "outputs": [],
   "source": [
    "if not os.path.exists(IMAGES_PATH):\n",
    "    if os.name == 'posix':\n",
    "        !mkdir -p {IMAGES_PATH}\n",
    "    if os.name == 'nt':\n",
    "         !mkdir {IMAGES_PATH}\n",
    "for label in labels:\n",
    "    path = os.path.join(IMAGES_PATH, label)\n",
    "    if not os.path.exists(path):\n",
    "        !mkdir {path}"
   ]
  },
  {
   "cell_type": "markdown",
   "metadata": {},
   "source": [
    "# Capture Images"
   ]
  },
  {
   "cell_type": "code",
   "execution_count": 6,
   "metadata": {},
   "outputs": [
    {
     "name": "stdout",
     "output_type": "stream",
     "text": [
      "Collecting images for usb\n",
      "Collecting image 0\n",
      "Collecting image 1\n",
      "Collecting image 2\n",
      "Collecting image 3\n",
      "Collecting image 4\n",
      "Collecting image 5\n",
      "Collecting image 6\n",
      "Collecting image 7\n",
      "Collecting image 8\n",
      "Collecting image 9\n",
      "Collecting image 10\n",
      "Collecting image 11\n",
      "Collecting image 12\n",
      "Collecting image 13\n",
      "Collecting image 14\n",
      "Collecting images for phone\n",
      "Collecting image 0\n",
      "Collecting image 1\n",
      "Collecting image 2\n",
      "Collecting image 3\n",
      "Collecting image 4\n",
      "Collecting image 5\n",
      "Collecting image 6\n",
      "Collecting image 7\n",
      "Collecting image 8\n",
      "Collecting image 9\n",
      "Collecting image 10\n",
      "Collecting image 11\n",
      "Collecting image 12\n",
      "Collecting image 13\n",
      "Collecting image 14\n",
      "Collecting images for pen\n",
      "Collecting image 0\n",
      "Collecting image 1\n",
      "Collecting image 2\n",
      "Collecting image 3\n",
      "Collecting image 4\n",
      "Collecting image 5\n",
      "Collecting image 6\n",
      "Collecting image 7\n",
      "Collecting image 8\n",
      "Collecting image 9\n",
      "Collecting image 10\n",
      "Collecting image 11\n",
      "Collecting image 12\n",
      "Collecting image 13\n",
      "Collecting image 14\n",
      "Collecting images for peace\n",
      "Collecting image 0\n",
      "Collecting image 1\n",
      "Collecting image 2\n",
      "Collecting image 3\n",
      "Collecting image 4\n",
      "Collecting image 5\n",
      "Collecting image 6\n",
      "Collecting image 7\n",
      "Collecting image 8\n",
      "Collecting image 9\n",
      "Collecting image 10\n",
      "Collecting image 11\n",
      "Collecting image 12\n",
      "Collecting image 13\n",
      "Collecting image 14\n"
     ]
    }
   ],
   "source": [
    "for label in labels:\n",
    "    cap = cv2.VideoCapture(0)\n",
    "    print('Collecting images for {}'.format(label))\n",
    "    time.sleep(4)\n",
    "    for imgnum in range(number_imgs):\n",
    "        print('Collecting image {}'.format(imgnum))\n",
    "        ret, frame = cap.read()\n",
    "        imgname = os.path.join(IMAGES_PATH,label,label+'.'+'{}.jpg'.format(str(uuid.uuid1())))\n",
    "        cv2.imwrite(imgname, frame)\n",
    "        cv2.imshow('frame', frame)\n",
    "        time.sleep(5)\n",
    "\n",
    "        if cv2.waitKey(1) & 0xFF == ord('q'):\n",
    "            break\n",
    "cap.release()\n",
    "cv2.destroyAllWindows()"
   ]
  },
  {
   "cell_type": "markdown",
   "metadata": {},
   "source": [
    "# Image Labelling"
   ]
  },
  {
   "cell_type": "code",
   "execution_count": 7,
   "metadata": {},
   "outputs": [
    {
     "name": "stdout",
     "output_type": "stream",
     "text": [
      "Collecting pyqt5\n",
      "  Using cached PyQt5-5.15.4-cp36.cp37.cp38.cp39-none-win_amd64.whl (6.8 MB)\n",
      "Collecting lxml\n",
      "  Using cached lxml-4.6.3-cp38-cp38-win_amd64.whl (3.5 MB)\n",
      "Collecting PyQt5-sip<13,>=12.8\n",
      "  Using cached PyQt5_sip-12.9.0-cp38-cp38-win_amd64.whl (63 kB)\n",
      "Collecting PyQt5-Qt5>=5.15\n",
      "  Using cached PyQt5_Qt5-5.15.2-py3-none-win_amd64.whl (50.1 MB)\n",
      "Installing collected packages: PyQt5-sip, PyQt5-Qt5, pyqt5, lxml\n",
      "Successfully installed PyQt5-Qt5-5.15.2 PyQt5-sip-12.9.0 lxml-4.6.3 pyqt5-5.15.4\n"
     ]
    }
   ],
   "source": [
    "!pip install --upgrade pyqt5 lxml"
   ]
  },
  {
   "cell_type": "code",
   "execution_count": 8,
   "metadata": {},
   "outputs": [],
   "source": [
    "LABELIMG_PATH = os.path.join('Tensorflow', 'labelimg')"
   ]
  },
  {
   "cell_type": "code",
   "execution_count": 9,
   "metadata": {},
   "outputs": [
    {
     "name": "stdout",
     "output_type": "stream",
     "text": [
      "Package           Version\n",
      "----------------- --------\n",
      "backcall          0.2.0\n",
      "colorama          0.4.4\n",
      "debugpy           1.4.1\n",
      "decorator         5.0.9\n",
      "ipykernel         6.0.3\n",
      "ipython           7.25.0\n",
      "ipython-genutils  0.2.0\n",
      "jedi              0.18.0\n",
      "jupyter-client    6.1.12\n",
      "jupyter-core      4.7.1\n",
      "lxml              4.6.3\n",
      "matplotlib-inline 0.1.2\n",
      "numpy             1.21.1\n",
      "opencv-python     4.5.3.56\n",
      "parso             0.8.2\n",
      "pickleshare       0.7.5\n",
      "pip               21.2.1\n",
      "prompt-toolkit    3.0.19\n",
      "Pygments          2.9.0\n",
      "PyQt5             5.15.4\n",
      "PyQt5-Qt5         5.15.2\n",
      "PyQt5-sip         12.9.0\n",
      "python-dateutil   2.8.2\n",
      "pywin32           301\n",
      "pyzmq             22.1.0\n",
      "setuptools        47.1.0\n",
      "six               1.16.0\n",
      "tornado           6.1\n",
      "traitlets         5.0.5\n",
      "wcwidth           0.2.5\n"
     ]
    }
   ],
   "source": [
    "!pip list"
   ]
  },
  {
   "cell_type": "code",
   "execution_count": 10,
   "metadata": {},
   "outputs": [],
   "source": [
    "if not os.path.exists(LABELIMG_PATH):\n",
    "    !mkdir {LABELIMG_PATH}\n",
    "    !git clone https://github.com/tzutalin/labelImg {LABELIMG_PATH}\n",
    "    \n"
   ]
  },
  {
   "cell_type": "code",
   "execution_count": 11,
   "metadata": {},
   "outputs": [],
   "source": [
    "if os.name == 'posix':\n",
    "    !make qt5py3\n",
    "if os.name =='nt':\n",
    "    !cd {LABELIMG_PATH} && pyrcc5 -o libs/resources.py resources.qrc"
   ]
  },
  {
   "cell_type": "code",
   "execution_count": 12,
   "metadata": {},
   "outputs": [
    {
     "name": "stdout",
     "output_type": "stream",
     "text": [
      "Cancel creation.\n",
      "Image:D:\\tfod\\TFOD\\Tensorflow\\workspace\\images\\collectedimages\\usb\\usb.0addaa41-efeb-11eb-bde6-b4a9fc5fa040.jpg -> Annotation:D:/tfod/TFOD/Tensorflow/workspace/images/collectedimages/usb/usb.0addaa41-efeb-11eb-bde6-b4a9fc5fa040.xml\n",
      "Image:D:\\tfod\\TFOD\\Tensorflow\\workspace\\images\\collectedimages\\usb\\usb.0ddd4cf0-efeb-11eb-b49c-b4a9fc5fa040.jpg -> Annotation:D:/tfod/TFOD/Tensorflow/workspace/images/collectedimages/usb/usb.0ddd4cf0-efeb-11eb-b49c-b4a9fc5fa040.xml\n",
      "Image:D:\\tfod\\TFOD\\Tensorflow\\workspace\\images\\collectedimages\\usb\\usb.1cd899d7-efeb-11eb-9ad6-b4a9fc5fa040.jpg -> Annotation:D:/tfod/TFOD/Tensorflow/workspace/images/collectedimages/usb/usb.1cd899d7-efeb-11eb-9ad6-b4a9fc5fa040.xml\n",
      "Image:D:\\tfod\\TFOD\\Tensorflow\\workspace\\images\\collectedimages\\usb\\usb.1fd7f415-efeb-11eb-95ef-b4a9fc5fa040.jpg -> Annotation:D:/tfod/TFOD/Tensorflow/workspace/images/collectedimages/usb/usb.1fd7f415-efeb-11eb-95ef-b4a9fc5fa040.xml\n",
      "Image:D:\\tfod\\TFOD\\Tensorflow\\workspace\\images\\collectedimages\\usb\\usb.2bd59dc0-efeb-11eb-98e6-b4a9fc5fa040.jpg -> Annotation:D:/tfod/TFOD/Tensorflow/workspace/images/collectedimages/usb/usb.2bd59dc0-efeb-11eb-98e6-b4a9fc5fa040.xml\n",
      "Image:D:\\tfod\\TFOD\\Tensorflow\\workspace\\images\\collectedimages\\usb\\usb.2ed4bd70-efeb-11eb-865b-b4a9fc5fa040.jpg -> Annotation:D:/tfod/TFOD/Tensorflow/workspace/images/collectedimages/usb/usb.2ed4bd70-efeb-11eb-865b-b4a9fc5fa040.xml\n",
      "Image:D:\\tfod\\TFOD\\Tensorflow\\workspace\\images\\collectedimages\\usb\\usb.07dbc7d1-efeb-11eb-8baf-b4a9fc5fa040.jpg -> Annotation:D:/tfod/TFOD/Tensorflow/workspace/images/collectedimages/usb/usb.07dbc7d1-efeb-11eb-8baf-b4a9fc5fa040.xml\n",
      "Image:D:\\tfod\\TFOD\\Tensorflow\\workspace\\images\\collectedimages\\usb\\usb.10dde012-efeb-11eb-bdb5-b4a9fc5fa040.jpg -> Annotation:D:/tfod/TFOD/Tensorflow/workspace/images/collectedimages/usb/usb.10dde012-efeb-11eb-bdb5-b4a9fc5fa040.xml\n",
      "Image:D:\\tfod\\TFOD\\Tensorflow\\workspace\\images\\collectedimages\\usb\\usb.13db3c0a-efeb-11eb-bc0d-b4a9fc5fa040.jpg -> Annotation:D:/tfod/TFOD/Tensorflow/workspace/images/collectedimages/usb/usb.13db3c0a-efeb-11eb-bc0d-b4a9fc5fa040.xml\n",
      "Image:D:\\tfod\\TFOD\\Tensorflow\\workspace\\images\\collectedimages\\usb\\usb.16da1352-efeb-11eb-8bcd-b4a9fc5fa040.jpg -> Annotation:D:/tfod/TFOD/Tensorflow/workspace/images/collectedimages/usb/usb.16da1352-efeb-11eb-8bcd-b4a9fc5fa040.xml\n",
      "Image:D:\\tfod\\TFOD\\Tensorflow\\workspace\\images\\collectedimages\\usb\\usb.19d98257-efeb-11eb-9439-b4a9fc5fa040.jpg -> Annotation:D:/tfod/TFOD/Tensorflow/workspace/images/collectedimages/usb/usb.19d98257-efeb-11eb-9439-b4a9fc5fa040.xml\n",
      "Image:D:\\tfod\\TFOD\\Tensorflow\\workspace\\images\\collectedimages\\usb\\usb.22d75f26-efeb-11eb-8c46-b4a9fc5fa040.jpg -> Annotation:D:/tfod/TFOD/Tensorflow/workspace/images/collectedimages/usb/usb.22d75f26-efeb-11eb-8c46-b4a9fc5fa040.xml\n",
      "Image:D:\\tfod\\TFOD\\Tensorflow\\workspace\\images\\collectedimages\\usb\\usb.25d6f2f6-efeb-11eb-9e11-b4a9fc5fa040.jpg -> Annotation:D:/tfod/TFOD/Tensorflow/workspace/images/collectedimages/usb/usb.25d6f2f6-efeb-11eb-9e11-b4a9fc5fa040.xml\n",
      "Image:D:\\tfod\\TFOD\\Tensorflow\\workspace\\images\\collectedimages\\usb\\usb.28d64e6a-efeb-11eb-a23c-b4a9fc5fa040.jpg -> Annotation:D:/tfod/TFOD/Tensorflow/workspace/images/collectedimages/usb/usb.28d64e6a-efeb-11eb-a23c-b4a9fc5fa040.xml\n",
      "Image:D:\\tfod\\TFOD\\Tensorflow\\workspace\\images\\collectedimages\\phone\\phone.3ad19aa0-efeb-11eb-bcd3-b4a9fc5fa040.jpg -> Annotation:D:/tfod/TFOD/Tensorflow/workspace/images/collectedimages/phone/phone.3ad19aa0-efeb-11eb-bcd3-b4a9fc5fa040.xml\n",
      "Image:D:\\tfod\\TFOD\\Tensorflow\\workspace\\images\\collectedimages\\phone\\phone.4fcb1c72-efeb-11eb-8075-b4a9fc5fa040.jpg -> Annotation:D:/tfod/TFOD/Tensorflow/workspace/images/collectedimages/phone/phone.4fcb1c72-efeb-11eb-8075-b4a9fc5fa040.xml\n",
      "Image:D:\\tfod\\TFOD\\Tensorflow\\workspace\\images\\collectedimages\\phone\\phone.3dd100cd-efeb-11eb-8a11-b4a9fc5fa040.jpg -> Annotation:D:/tfod/TFOD/Tensorflow/workspace/images/collectedimages/phone/phone.3dd100cd-efeb-11eb-8a11-b4a9fc5fa040.xml\n",
      "Image:D:\\tfod\\TFOD\\Tensorflow\\workspace\\images\\collectedimages\\phone\\phone.4ccbb316-efeb-11eb-a515-b4a9fc5fa040.jpg -> Annotation:D:/tfod/TFOD/Tensorflow/workspace/images/collectedimages/phone/phone.4ccbb316-efeb-11eb-a515-b4a9fc5fa040.xml\n",
      "Image:D:\\tfod\\TFOD\\Tensorflow\\workspace\\images\\collectedimages\\phone\\phone.5ec63665-efeb-11eb-b2aa-b4a9fc5fa040.jpg -> Annotation:D:/tfod/TFOD/Tensorflow/workspace/images/collectedimages/phone/phone.5ec63665-efeb-11eb-b2aa-b4a9fc5fa040.xml\n",
      "Image:D:\\tfod\\TFOD\\Tensorflow\\workspace\\images\\collectedimages\\phone\\phone.34d14c48-efeb-11eb-8c77-b4a9fc5fa040.jpg -> Annotation:D:/tfod/TFOD/Tensorflow/workspace/images/collectedimages/phone/phone.34d14c48-efeb-11eb-8c77-b4a9fc5fa040.xml\n",
      "Image:D:\\tfod\\TFOD\\Tensorflow\\workspace\\images\\collectedimages\\phone\\phone.37d337e0-efeb-11eb-86b1-b4a9fc5fa040.jpg -> Annotation:D:/tfod/TFOD/Tensorflow/workspace/images/collectedimages/phone/phone.37d337e0-efeb-11eb-86b1-b4a9fc5fa040.xml\n",
      "Image:D:\\tfod\\TFOD\\Tensorflow\\workspace\\images\\collectedimages\\phone\\phone.40ce8a92-efeb-11eb-9d60-b4a9fc5fa040.jpg -> Annotation:D:/tfod/TFOD/Tensorflow/workspace/images/collectedimages/phone/phone.40ce8a92-efeb-11eb-9d60-b4a9fc5fa040.xml\n",
      "Image:D:\\tfod\\TFOD\\Tensorflow\\workspace\\images\\collectedimages\\phone\\phone.43cdd6b1-efeb-11eb-bdd2-b4a9fc5fa040.jpg -> Annotation:D:/tfod/TFOD/Tensorflow/workspace/images/collectedimages/phone/phone.43cdd6b1-efeb-11eb-bdd2-b4a9fc5fa040.xml\n",
      "Image:D:\\tfod\\TFOD\\Tensorflow\\workspace\\images\\collectedimages\\phone\\phone.46cd20d4-efeb-11eb-a999-b4a9fc5fa040.jpg -> Annotation:D:/tfod/TFOD/Tensorflow/workspace/images/collectedimages/phone/phone.46cd20d4-efeb-11eb-a999-b4a9fc5fa040.xml\n",
      "Image:D:\\tfod\\TFOD\\Tensorflow\\workspace\\images\\collectedimages\\phone\\phone.49cc891b-efeb-11eb-b09d-b4a9fc5fa040.jpg -> Annotation:D:/tfod/TFOD/Tensorflow/workspace/images/collectedimages/phone/phone.49cc891b-efeb-11eb-b09d-b4a9fc5fa040.xml\n",
      "Image:D:\\tfod\\TFOD\\Tensorflow\\workspace\\images\\collectedimages\\phone\\phone.52ca137b-efeb-11eb-b295-b4a9fc5fa040.jpg -> Annotation:D:/tfod/TFOD/Tensorflow/workspace/images/collectedimages/phone/phone.52ca137b-efeb-11eb-b295-b4a9fc5fa040.xml\n",
      "Image:D:\\tfod\\TFOD\\Tensorflow\\workspace\\images\\collectedimages\\phone\\phone.55c94013-efeb-11eb-ab6d-b4a9fc5fa040.jpg -> Annotation:D:/tfod/TFOD/Tensorflow/workspace/images/collectedimages/phone/phone.55c94013-efeb-11eb-ab6d-b4a9fc5fa040.xml\n",
      "Image:D:\\tfod\\TFOD\\Tensorflow\\workspace\\images\\collectedimages\\phone\\phone.58c80708-efeb-11eb-856d-b4a9fc5fa040.jpg -> Annotation:D:/tfod/TFOD/Tensorflow/workspace/images/collectedimages/phone/phone.58c80708-efeb-11eb-856d-b4a9fc5fa040.xml\n",
      "Image:D:\\tfod\\TFOD\\Tensorflow\\workspace\\images\\collectedimages\\pen\\pen.6aaee4b8-efeb-11eb-970d-b4a9fc5fa040.jpg -> Annotation:D:/tfod/TFOD/Tensorflow/workspace/images/collectedimages/pen/pen.6aaee4b8-efeb-11eb-970d-b4a9fc5fa040.xml\n",
      "Cancel creation.\n",
      "Image:D:\\tfod\\TFOD\\Tensorflow\\workspace\\images\\collectedimages\\pen\\pen.6dae44c2-efeb-11eb-845f-b4a9fc5fa040.jpg -> Annotation:D:/tfod/TFOD/Tensorflow/workspace/images/collectedimages/pen/pen.6dae44c2-efeb-11eb-845f-b4a9fc5fa040.xml\n",
      "Image:D:\\tfod\\TFOD\\Tensorflow\\workspace\\images\\collectedimages\\pen\\pen.7cab39a4-efeb-11eb-b2a6-b4a9fc5fa040.jpg -> Annotation:D:/tfod/TFOD/Tensorflow/workspace/images/collectedimages/pen/pen.7cab39a4-efeb-11eb-b2a6-b4a9fc5fa040.xml\n",
      "Image:D:\\tfod\\TFOD\\Tensorflow\\workspace\\images\\collectedimages\\pen\\pen.7faa8847-efeb-11eb-9325-b4a9fc5fa040.jpg -> Annotation:D:/tfod/TFOD/Tensorflow/workspace/images/collectedimages/pen/pen.7faa8847-efeb-11eb-9325-b4a9fc5fa040.xml\n",
      "Image:D:\\tfod\\TFOD\\Tensorflow\\workspace\\images\\collectedimages\\pen\\pen.8ba6fa80-efeb-11eb-be92-b4a9fc5fa040.jpg -> Annotation:D:/tfod/TFOD/Tensorflow/workspace/images/collectedimages/pen/pen.8ba6fa80-efeb-11eb-be92-b4a9fc5fa040.xml\n",
      "Image:D:\\tfod\\TFOD\\Tensorflow\\workspace\\images\\collectedimages\\pen\\pen.8ea60686-efeb-11eb-b7e6-b4a9fc5fa040.jpg -> Annotation:D:/tfod/TFOD/Tensorflow/workspace/images/collectedimages/pen/pen.8ea60686-efeb-11eb-b7e6-b4a9fc5fa040.xml\n",
      "Cancel creation.\n",
      "Image:D:\\tfod\\TFOD\\Tensorflow\\workspace\\images\\collectedimages\\pen\\pen.70adb10b-efeb-11eb-81fa-b4a9fc5fa040.jpg -> Annotation:D:/tfod/TFOD/Tensorflow/workspace/images/collectedimages/pen/pen.70adb10b-efeb-11eb-81fa-b4a9fc5fa040.xml\n",
      "Image:D:\\tfod\\TFOD\\Tensorflow\\workspace\\images\\collectedimages\\pen\\pen.73ad4512-efeb-11eb-a6eb-b4a9fc5fa040.jpg -> Annotation:D:/tfod/TFOD/Tensorflow/workspace/images/collectedimages/pen/pen.73ad4512-efeb-11eb-a6eb-b4a9fc5fa040.xml\n",
      "Image:D:\\tfod\\TFOD\\Tensorflow\\workspace\\images\\collectedimages\\pen\\pen.76ac9f5b-efeb-11eb-bfb6-b4a9fc5fa040.jpg -> Annotation:D:/tfod/TFOD/Tensorflow/workspace/images/collectedimages/pen/pen.76ac9f5b-efeb-11eb-bfb6-b4a9fc5fa040.xml\n",
      "Image:D:\\tfod\\TFOD\\Tensorflow\\workspace\\images\\collectedimages\\pen\\pen.79abe6d4-efeb-11eb-8a47-b4a9fc5fa040.jpg -> Annotation:D:/tfod/TFOD/Tensorflow/workspace/images/collectedimages/pen/pen.79abe6d4-efeb-11eb-8a47-b4a9fc5fa040.xml\n",
      "Image:D:\\tfod\\TFOD\\Tensorflow\\workspace\\images\\collectedimages\\pen\\pen.88a796b4-efeb-11eb-9f16-b4a9fc5fa040.jpg -> Annotation:D:/tfod/TFOD/Tensorflow/workspace/images/collectedimages/pen/pen.88a796b4-efeb-11eb-9f16-b4a9fc5fa040.xml\n",
      "Image:D:\\tfod\\TFOD\\Tensorflow\\workspace\\images\\collectedimages\\peace\\peace.9a96c316-efeb-11eb-b4be-b4a9fc5fa040.jpg -> Annotation:D:/tfod/TFOD/Tensorflow/workspace/images/collectedimages/peace/peace.9a96c316-efeb-11eb-b4be-b4a9fc5fa040.xml\n",
      "Image:D:\\tfod\\TFOD\\Tensorflow\\workspace\\images\\collectedimages\\peace\\peace.9d96447e-efeb-11eb-932c-b4a9fc5fa040.jpg -> Annotation:D:/tfod/TFOD/Tensorflow/workspace/images/collectedimages/peace/peace.9d96447e-efeb-11eb-932c-b4a9fc5fa040.xml\n",
      "Image:D:\\tfod\\TFOD\\Tensorflow\\workspace\\images\\collectedimages\\peace\\peace.9797492e-efeb-11eb-8fdd-b4a9fc5fa040.jpg -> Annotation:D:/tfod/TFOD/Tensorflow/workspace/images/collectedimages/peace/peace.9797492e-efeb-11eb-8fdd-b4a9fc5fa040.xml\n",
      "Image:D:\\tfod\\TFOD\\Tensorflow\\workspace\\images\\collectedimages\\peace\\peace.a9931131-efeb-11eb-aa9f-b4a9fc5fa040.jpg -> Annotation:D:/tfod/TFOD/Tensorflow/workspace/images/collectedimages/peace/peace.a9931131-efeb-11eb-aa9f-b4a9fc5fa040.xml\n",
      "Image:D:\\tfod\\TFOD\\Tensorflow\\workspace\\images\\collectedimages\\peace\\peace.ac921aaa-efeb-11eb-906a-b4a9fc5fa040.jpg -> Annotation:D:/tfod/TFOD/Tensorflow/workspace/images/collectedimages/peace/peace.ac921aaa-efeb-11eb-906a-b4a9fc5fa040.xml\n",
      "Image:D:\\tfod\\TFOD\\Tensorflow\\workspace\\images\\collectedimages\\peace\\peace.af916e52-efeb-11eb-afdc-b4a9fc5fa040.jpg -> Annotation:D:/tfod/TFOD/Tensorflow/workspace/images/collectedimages/peace/peace.af916e52-efeb-11eb-afdc-b4a9fc5fa040.xml\n",
      "Image:D:\\tfod\\TFOD\\Tensorflow\\workspace\\images\\collectedimages\\peace\\peace.b88ffdd9-efeb-11eb-b4f2-b4a9fc5fa040.jpg -> Annotation:D:/tfod/TFOD/Tensorflow/workspace/images/collectedimages/peace/peace.b88ffdd9-efeb-11eb-b4f2-b4a9fc5fa040.xml\n",
      "Image:D:\\tfod\\TFOD\\Tensorflow\\workspace\\images\\collectedimages\\peace\\peace.b290dda9-efeb-11eb-ba74-b4a9fc5fa040.jpg -> Annotation:D:/tfod/TFOD/Tensorflow/workspace/images/collectedimages/peace/peace.b290dda9-efeb-11eb-ba74-b4a9fc5fa040.xml\n",
      "Image:D:\\tfod\\TFOD\\Tensorflow\\workspace\\images\\collectedimages\\peace\\peace.b5905d44-efeb-11eb-af7e-b4a9fc5fa040.jpg -> Annotation:D:/tfod/TFOD/Tensorflow/workspace/images/collectedimages/peace/peace.b5905d44-efeb-11eb-af7e-b4a9fc5fa040.xml\n",
      "Image:D:\\tfod\\TFOD\\Tensorflow\\workspace\\images\\collectedimages\\peace\\peace.bb8f74da-efeb-11eb-a71e-b4a9fc5fa040.jpg -> Annotation:D:/tfod/TFOD/Tensorflow/workspace/images/collectedimages/peace/peace.bb8f74da-efeb-11eb-a71e-b4a9fc5fa040.xml\n",
      "Image:D:\\tfod\\TFOD\\Tensorflow\\workspace\\images\\collectedimages\\peace\\peace.be8ed1c4-efeb-11eb-9940-b4a9fc5fa040.jpg -> Annotation:D:/tfod/TFOD/Tensorflow/workspace/images/collectedimages/peace/peace.be8ed1c4-efeb-11eb-9940-b4a9fc5fa040.xml\n"
     ]
    }
   ],
   "source": [
    "!cd {LABELIMG_PATH} && python labelImg.py"
   ]
  },
  {
   "cell_type": "code",
   "execution_count": null,
   "metadata": {},
   "outputs": [],
   "source": []
  }
 ],
 "metadata": {
  "kernelspec": {
   "display_name": "tfod",
   "language": "python",
   "name": "tfod"
  },
  "language_info": {
   "codemirror_mode": {
    "name": "ipython",
    "version": 3
   },
   "file_extension": ".py",
   "mimetype": "text/x-python",
   "name": "python",
   "nbconvert_exporter": "python",
   "pygments_lexer": "ipython3",
   "version": "3.8.5"
  }
 },
 "nbformat": 4,
 "nbformat_minor": 2
}
